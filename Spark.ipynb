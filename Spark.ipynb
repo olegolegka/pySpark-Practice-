{
 "cells": [
  {
   "cell_type": "code",
   "execution_count": 1,
   "id": "a26c975b",
   "metadata": {},
   "outputs": [
    {
     "name": "stdout",
     "output_type": "stream",
     "text": [
      "Requirement already satisfied: pyspark in c:\\users\\user\\appdata\\local\\programs\\python\\python39\\lib\\site-packages (3.2.1)\n",
      "Requirement already satisfied: py4j==0.10.9.3 in c:\\users\\user\\appdata\\local\\programs\\python\\python39\\lib\\site-packages (from pyspark) (0.10.9.3)\n",
      "Note: you may need to restart the kernel to use updated packages.\n"
     ]
    },
    {
     "name": "stderr",
     "output_type": "stream",
     "text": [
      "WARNING: You are using pip version 21.1.1; however, version 22.0.3 is available.\n",
      "You should consider upgrading via the 'c:\\users\\user\\appdata\\local\\programs\\python\\python39\\python.exe -m pip install --upgrade pip' command.\n"
     ]
    }
   ],
   "source": [
    "pip install pyspark"
   ]
  },
  {
   "cell_type": "code",
   "execution_count": 2,
   "id": "33599e60",
   "metadata": {},
   "outputs": [],
   "source": [
    "import pyspark"
   ]
  },
  {
   "cell_type": "code",
   "execution_count": 3,
   "id": "5812c616",
   "metadata": {},
   "outputs": [],
   "source": [
    "import pandas as pd\n",
    "file = pd.read_csv(\"Height of Male and Female by Country 2022.csv\")"
   ]
  },
  {
   "cell_type": "code",
   "execution_count": 4,
   "id": "decda510",
   "metadata": {},
   "outputs": [],
   "source": [
    "file.drop([\"Male Height in Ft\",\"Female Height in Ft\",\"Rank\"],axis=1,inplace=True)"
   ]
  },
  {
   "cell_type": "code",
   "execution_count": 5,
   "id": "f6bc6dab",
   "metadata": {},
   "outputs": [
    {
     "data": {
      "text/html": [
       "<div>\n",
       "<style scoped>\n",
       "    .dataframe tbody tr th:only-of-type {\n",
       "        vertical-align: middle;\n",
       "    }\n",
       "\n",
       "    .dataframe tbody tr th {\n",
       "        vertical-align: top;\n",
       "    }\n",
       "\n",
       "    .dataframe thead th {\n",
       "        text-align: right;\n",
       "    }\n",
       "</style>\n",
       "<table border=\"1\" class=\"dataframe\">\n",
       "  <thead>\n",
       "    <tr style=\"text-align: right;\">\n",
       "      <th></th>\n",
       "      <th>Country Name</th>\n",
       "      <th>Male Height in Cm</th>\n",
       "      <th>Female Height in Cm</th>\n",
       "    </tr>\n",
       "  </thead>\n",
       "  <tbody>\n",
       "    <tr>\n",
       "      <th>0</th>\n",
       "      <td>Netherlands</td>\n",
       "      <td>183.78</td>\n",
       "      <td>170.36</td>\n",
       "    </tr>\n",
       "    <tr>\n",
       "      <th>1</th>\n",
       "      <td>Montenegro</td>\n",
       "      <td>183.30</td>\n",
       "      <td>169.96</td>\n",
       "    </tr>\n",
       "    <tr>\n",
       "      <th>2</th>\n",
       "      <td>Estonia</td>\n",
       "      <td>182.79</td>\n",
       "      <td>168.66</td>\n",
       "    </tr>\n",
       "    <tr>\n",
       "      <th>3</th>\n",
       "      <td>Bosnia and Herzegovina</td>\n",
       "      <td>182.47</td>\n",
       "      <td>167.47</td>\n",
       "    </tr>\n",
       "    <tr>\n",
       "      <th>4</th>\n",
       "      <td>Iceland</td>\n",
       "      <td>182.10</td>\n",
       "      <td>168.91</td>\n",
       "    </tr>\n",
       "  </tbody>\n",
       "</table>\n",
       "</div>"
      ],
      "text/plain": [
       "             Country Name  Male Height in Cm  Female Height in Cm\n",
       "0             Netherlands             183.78               170.36\n",
       "1              Montenegro             183.30               169.96\n",
       "2                 Estonia             182.79               168.66\n",
       "3  Bosnia and Herzegovina             182.47               167.47\n",
       "4                 Iceland             182.10               168.91"
      ]
     },
     "execution_count": 5,
     "metadata": {},
     "output_type": "execute_result"
    }
   ],
   "source": [
    "file.head()"
   ]
  },
  {
   "cell_type": "code",
   "execution_count": 3,
   "id": "3daa93f8",
   "metadata": {},
   "outputs": [],
   "source": [
    "from pyspark.sql import SparkSession"
   ]
  },
  {
   "cell_type": "code",
   "execution_count": 4,
   "id": "3bb533f4",
   "metadata": {},
   "outputs": [],
   "source": [
    "spark=SparkSession.builder.appName('sparkProject').getOrCreate()"
   ]
  },
  {
   "cell_type": "code",
   "execution_count": 5,
   "id": "78b91648",
   "metadata": {},
   "outputs": [
    {
     "data": {
      "text/html": [
       "\n",
       "            <div>\n",
       "                <p><b>SparkSession - in-memory</b></p>\n",
       "                \n",
       "        <div>\n",
       "            <p><b>SparkContext</b></p>\n",
       "\n",
       "            <p><a href=\"http://User-PC.mshome.net:4040\">Spark UI</a></p>\n",
       "\n",
       "            <dl>\n",
       "              <dt>Version</dt>\n",
       "                <dd><code>v3.2.1</code></dd>\n",
       "              <dt>Master</dt>\n",
       "                <dd><code>local[*]</code></dd>\n",
       "              <dt>AppName</dt>\n",
       "                <dd><code>sparkProject</code></dd>\n",
       "            </dl>\n",
       "        </div>\n",
       "        \n",
       "            </div>\n",
       "        "
      ],
      "text/plain": [
       "<pyspark.sql.session.SparkSession at 0x12142a79ac0>"
      ]
     },
     "execution_count": 5,
     "metadata": {},
     "output_type": "execute_result"
    }
   ],
   "source": [
    "spark"
   ]
  },
  {
   "cell_type": "code",
   "execution_count": 9,
   "id": "0760c9d9",
   "metadata": {},
   "outputs": [],
   "source": [
    "df_pyspark=spark.read.option('header','true').csv(\"Height of Male and Female by Country 2022.csv\",inferSchema=True)"
   ]
  },
  {
   "cell_type": "code",
   "execution_count": 10,
   "id": "34c84a70",
   "metadata": {},
   "outputs": [
    {
     "name": "stdout",
     "output_type": "stream",
     "text": [
      "+----+--------------------+-----------------+-------------------+-----------------+-------------------+\n",
      "|Rank|        Country Name|Male Height in Cm|Female Height in Cm|Male Height in Ft|Female Height in Ft|\n",
      "+----+--------------------+-----------------+-------------------+-----------------+-------------------+\n",
      "|   1|         Netherlands|           183.78|             170.36|             6.03|               5.59|\n",
      "|   2|          Montenegro|            183.3|             169.96|             6.01|               5.58|\n",
      "|   3|             Estonia|           182.79|             168.66|              6.0|               5.53|\n",
      "|   4|Bosnia and Herzeg...|           182.47|             167.47|             5.99|               5.49|\n",
      "|   5|             Iceland|            182.1|             168.91|             5.97|               5.54|\n",
      "|   6|             Denmark|           181.89|             169.47|             5.97|               5.56|\n",
      "|   7|      Czech Republic|           181.19|             167.96|             5.94|               5.51|\n",
      "|   8|              Latvia|           181.17|             168.81|             5.94|               5.54|\n",
      "|   9|            Slovakia|           181.02|             167.12|             5.94|               5.48|\n",
      "|  10|            Slovenia|           180.98|              167.2|             5.94|               5.49|\n",
      "|  11|             Ukraine|           180.98|             166.62|             5.94|               5.47|\n",
      "|  12|             Croatia|           180.76|              166.8|             5.93|               5.47|\n",
      "|  13|              Serbia|           180.74|             168.29|             5.93|               5.52|\n",
      "|  14|           Lithuania|           180.72|             167.63|             5.93|                5.5|\n",
      "|  15|              Poland|           180.69|             165.78|             5.93|               5.44|\n",
      "|  16|             Finland|           180.57|             166.48|             5.92|               5.46|\n",
      "|  17|              Norway|           180.48|             166.45|             5.92|               5.46|\n",
      "|  18|              Sweden|           180.46|             166.67|             5.92|               5.47|\n",
      "|  19|             Germany|           180.28|             166.18|             5.91|               5.45|\n",
      "|  20|            Dominica|           180.15|             166.89|             5.91|               5.48|\n",
      "+----+--------------------+-----------------+-------------------+-----------------+-------------------+\n",
      "only showing top 20 rows\n",
      "\n"
     ]
    }
   ],
   "source": [
    "df_pyspark.show()"
   ]
  },
  {
   "cell_type": "code",
   "execution_count": 11,
   "id": "95d3bbd7",
   "metadata": {},
   "outputs": [
    {
     "name": "stdout",
     "output_type": "stream",
     "text": [
      "root\n",
      " |-- Rank: integer (nullable = true)\n",
      " |-- Country Name: string (nullable = true)\n",
      " |-- Male Height in Cm: double (nullable = true)\n",
      " |-- Female Height in Cm: double (nullable = true)\n",
      " |-- Male Height in Ft: double (nullable = true)\n",
      " |-- Female Height in Ft: double (nullable = true)\n",
      "\n"
     ]
    }
   ],
   "source": [
    "df_pyspark.printSchema()"
   ]
  },
  {
   "cell_type": "code",
   "execution_count": 12,
   "id": "d07faa5c",
   "metadata": {},
   "outputs": [],
   "source": [
    "df_pyspark=df_pyspark.drop(\"Male Height in Ft\",\"Female Height in Ft\")"
   ]
  },
  {
   "cell_type": "code",
   "execution_count": 13,
   "id": "9e08ef28",
   "metadata": {},
   "outputs": [
    {
     "name": "stdout",
     "output_type": "stream",
     "text": [
      "+----+--------------------+-----------------+-------------------+\n",
      "|Rank|        Country Name|Male Height in Cm|Female Height in Cm|\n",
      "+----+--------------------+-----------------+-------------------+\n",
      "|   1|         Netherlands|           183.78|             170.36|\n",
      "|   2|          Montenegro|            183.3|             169.96|\n",
      "|   3|             Estonia|           182.79|             168.66|\n",
      "|   4|Bosnia and Herzeg...|           182.47|             167.47|\n",
      "|   5|             Iceland|            182.1|             168.91|\n",
      "|   6|             Denmark|           181.89|             169.47|\n",
      "|   7|      Czech Republic|           181.19|             167.96|\n",
      "|   8|              Latvia|           181.17|             168.81|\n",
      "|   9|            Slovakia|           181.02|             167.12|\n",
      "|  10|            Slovenia|           180.98|              167.2|\n",
      "|  11|             Ukraine|           180.98|             166.62|\n",
      "|  12|             Croatia|           180.76|              166.8|\n",
      "|  13|              Serbia|           180.74|             168.29|\n",
      "|  14|           Lithuania|           180.72|             167.63|\n",
      "|  15|              Poland|           180.69|             165.78|\n",
      "|  16|             Finland|           180.57|             166.48|\n",
      "|  17|              Norway|           180.48|             166.45|\n",
      "|  18|              Sweden|           180.46|             166.67|\n",
      "|  19|             Germany|           180.28|             166.18|\n",
      "|  20|            Dominica|           180.15|             166.89|\n",
      "+----+--------------------+-----------------+-------------------+\n",
      "only showing top 20 rows\n",
      "\n"
     ]
    }
   ],
   "source": [
    "df_pyspark.show()"
   ]
  },
  {
   "cell_type": "code",
   "execution_count": 14,
   "id": "62dfbbb7",
   "metadata": {},
   "outputs": [
    {
     "data": {
      "text/plain": [
       "DataFrame[Rank: int, Country Name: string, Male Height in Cm: double, Female Height in Cm: double]"
      ]
     },
     "execution_count": 14,
     "metadata": {},
     "output_type": "execute_result"
    }
   ],
   "source": [
    "df_pyspark.na.drop()#deleting null values"
   ]
  },
  {
   "cell_type": "code",
   "execution_count": 31,
   "id": "89ef3857",
   "metadata": {},
   "outputs": [
    {
     "name": "stdout",
     "output_type": "stream",
     "text": [
      "+-------------------+-----------------+\n",
      "|       Country Name|Male Height in Cm|\n",
      "+-------------------+-----------------+\n",
      "|            Ukraine|           180.98|\n",
      "|            Croatia|           180.76|\n",
      "|             Serbia|           180.74|\n",
      "|          Lithuania|           180.72|\n",
      "|             Poland|           180.69|\n",
      "|            Finland|           180.57|\n",
      "|             Norway|           180.48|\n",
      "|             Sweden|           180.46|\n",
      "|            Germany|           180.28|\n",
      "|           Dominica|           180.15|\n",
      "|            Bermuda|           179.72|\n",
      "|        Puerto Rico|           179.48|\n",
      "|             Greece|           179.26|\n",
      "|            Belgium|           179.09|\n",
      "|            Ireland|           179.04|\n",
      "|            Lebanon|           178.96|\n",
      "|            Andorra|           178.84|\n",
      "|Antigua and Barbuda|           178.84|\n",
      "|          Australia|           178.77|\n",
      "|             Canada|           178.75|\n",
      "+-------------------+-----------------+\n",
      "only showing top 20 rows\n",
      "\n"
     ]
    }
   ],
   "source": [
    "df_pyspark.filter(df_pyspark['Rank']>10).select([\"Country Name\",\"Male Height in Cm\"]).show()"
   ]
  },
  {
   "cell_type": "code",
   "execution_count": 21,
   "id": "056b4716",
   "metadata": {},
   "outputs": [],
   "source": [
    "jobs = spark.read.csv(\"Salary Dataset.csv\",header=True, inferSchema=True)"
   ]
  },
  {
   "cell_type": "code",
   "execution_count": 22,
   "id": "2a69c04f",
   "metadata": {},
   "outputs": [
    {
     "data": {
      "text/plain": [
       "Row(Company Name='Mu Sigma', Job Title='Data Scientist', Salaries Reported=105, Location='Bangalore', Salary='₹6,48,573/yr')"
      ]
     },
     "execution_count": 22,
     "metadata": {},
     "output_type": "execute_result"
    }
   ],
   "source": [
    "jobs.head()"
   ]
  },
  {
   "cell_type": "code",
   "execution_count": 23,
   "id": "a4f69d18",
   "metadata": {},
   "outputs": [
    {
     "name": "stdout",
     "output_type": "stream",
     "text": [
      "+--------------------+--------------+-----------------+---------+-------------+\n",
      "|        Company Name|     Job Title|Salaries Reported| Location|       Salary|\n",
      "+--------------------+--------------+-----------------+---------+-------------+\n",
      "|            Mu Sigma|Data Scientist|              105|Bangalore| ₹6,48,573/yr|\n",
      "|                 IBM|Data Scientist|               95|Bangalore|₹11,91,950/yr|\n",
      "|Tata Consultancy ...|Data Scientist|               66|Bangalore| ₹8,36,874/yr|\n",
      "|    Impact Analytics|Data Scientist|               40|Bangalore| ₹6,69,578/yr|\n",
      "|           Accenture|Data Scientist|               32|Bangalore| ₹9,44,110/yr|\n",
      "|             Infosys|Data Scientist|               30|Bangalore| ₹9,08,764/yr|\n",
      "|           Capgemini|Data Scientist|               28|Bangalore| ₹9,26,124/yr|\n",
      "|Cognizant Technol...|Data Scientist|               26|Bangalore| ₹7,36,708/yr|\n",
      "|Anheuser-Busch InBev|Data Scientist|               25|Bangalore|₹16,46,721/yr|\n",
      "|             Fractal|Data Scientist|               22|Bangalore|₹13,92,960/yr|\n",
      "|              Embibe|Data Scientist|               20|Bangalore|₹14,04,773/yr|\n",
      "|              Amazon|Data Scientist|               19|Bangalore|₹15,07,343/yr|\n",
      "|              Google|Data Scientist|               19|Bangalore|₹15,58,095/yr|\n",
      "|            Flipkart|Data Scientist|               18|Bangalore|₹25,57,843/yr|\n",
      "|             HP Inc.|Data Scientist|               16|Bangalore|₹15,10,081/yr|\n",
      "|               Wipro|Data Scientist|               15|Bangalore| ₹7,32,821/yr|\n",
      "|  Ericsson-Worldwide|Data Scientist|               15|Bangalore|₹12,21,750/yr|\n",
      "|                 MiQ|Data Scientist|               15|Bangalore|₹17,39,484/yr|\n",
      "|            Deloitte|Data Scientist|               14|Bangalore|₹11,24,939/yr|\n",
      "|           Microsoft|Data Scientist|               14|Bangalore|₹16,30,396/yr|\n",
      "+--------------------+--------------+-----------------+---------+-------------+\n",
      "only showing top 20 rows\n",
      "\n"
     ]
    }
   ],
   "source": [
    "jobs.show()"
   ]
  },
  {
   "cell_type": "code",
   "execution_count": 24,
   "id": "0bf04693",
   "metadata": {},
   "outputs": [
    {
     "name": "stdout",
     "output_type": "stream",
     "text": [
      "root\n",
      " |-- Company Name: string (nullable = true)\n",
      " |-- Job Title: string (nullable = true)\n",
      " |-- Salaries Reported: integer (nullable = true)\n",
      " |-- Location: string (nullable = true)\n",
      " |-- Salary: string (nullable = true)\n",
      "\n"
     ]
    }
   ],
   "source": [
    "jobs.printSchema()"
   ]
  },
  {
   "cell_type": "code",
   "execution_count": 68,
   "id": "72c2acc5",
   "metadata": {},
   "outputs": [],
   "source": [
    "import pyspark.sql.functions as F\n",
    "\n",
    "df2 = jobs.withColumn(\n",
    "    'Salary', \n",
    "    F.expr(\"substring(Salary, 1, length(Salary) -3)\")\n",
    ")"
   ]
  },
  {
   "cell_type": "code",
   "execution_count": 71,
   "id": "8a5b8597",
   "metadata": {},
   "outputs": [],
   "source": [
    "df2 = df2.withColumn(\n",
    "    'Salary', \n",
    "    F.expr(\"substring(Salary, 2, length(Salary) +1)\")\n",
    ")"
   ]
  },
  {
   "cell_type": "code",
   "execution_count": 85,
   "id": "a2e251ed",
   "metadata": {},
   "outputs": [],
   "source": [
    "from pyspark.sql.types import IntegerType\n",
    "df3 = df2.withColumn(\"Salary\", df2[\"Salary\"].cast(IntegerType()))"
   ]
  },
  {
   "cell_type": "code",
   "execution_count": 87,
   "id": "95e18432",
   "metadata": {},
   "outputs": [
    {
     "name": "stdout",
     "output_type": "stream",
     "text": [
      "+--------------------+--------------+-----------------+---------+---------+\n",
      "|        Company Name|     Job Title|Salaries Reported| Location|   Salary|\n",
      "+--------------------+--------------+-----------------+---------+---------+\n",
      "|            Mu Sigma|Data Scientist|              105|Bangalore| 6,48,573|\n",
      "|                 IBM|Data Scientist|               95|Bangalore|11,91,950|\n",
      "|Tata Consultancy ...|Data Scientist|               66|Bangalore| 8,36,874|\n",
      "|    Impact Analytics|Data Scientist|               40|Bangalore| 6,69,578|\n",
      "|           Accenture|Data Scientist|               32|Bangalore| 9,44,110|\n",
      "|             Infosys|Data Scientist|               30|Bangalore| 9,08,764|\n",
      "|           Capgemini|Data Scientist|               28|Bangalore| 9,26,124|\n",
      "|Cognizant Technol...|Data Scientist|               26|Bangalore| 7,36,708|\n",
      "|Anheuser-Busch InBev|Data Scientist|               25|Bangalore|16,46,721|\n",
      "|             Fractal|Data Scientist|               22|Bangalore|13,92,960|\n",
      "|              Embibe|Data Scientist|               20|Bangalore|14,04,773|\n",
      "|              Amazon|Data Scientist|               19|Bangalore|15,07,343|\n",
      "|              Google|Data Scientist|               19|Bangalore|15,58,095|\n",
      "|            Flipkart|Data Scientist|               18|Bangalore|25,57,843|\n",
      "|             HP Inc.|Data Scientist|               16|Bangalore|15,10,081|\n",
      "|               Wipro|Data Scientist|               15|Bangalore| 7,32,821|\n",
      "|  Ericsson-Worldwide|Data Scientist|               15|Bangalore|12,21,750|\n",
      "|                 MiQ|Data Scientist|               15|Bangalore|17,39,484|\n",
      "|            Deloitte|Data Scientist|               14|Bangalore|11,24,939|\n",
      "|           Microsoft|Data Scientist|               14|Bangalore|16,30,396|\n",
      "+--------------------+--------------+-----------------+---------+---------+\n",
      "only showing top 20 rows\n",
      "\n"
     ]
    }
   ],
   "source": [
    "df2.show()"
   ]
  },
  {
   "cell_type": "code",
   "execution_count": 33,
   "id": "11f52e5f",
   "metadata": {},
   "outputs": [],
   "source": [
    "from pyspark.ml.feature import VectorAssembler"
   ]
  },
  {
   "cell_type": "code",
   "execution_count": null,
   "id": "6187b162",
   "metadata": {},
   "outputs": [],
   "source": []
  },
  {
   "cell_type": "code",
   "execution_count": 25,
   "id": "95385ce1",
   "metadata": {},
   "outputs": [
    {
     "name": "stdout",
     "output_type": "stream",
     "text": [
      "+---------+----------------------+\n",
      "| Location|sum(Salaries Reported)|\n",
      "+---------+----------------------+\n",
      "|Bangalore|                  4897|\n",
      "|   Mumbai|                  1581|\n",
      "|     Pune|                  1684|\n",
      "|New Delhi|                  2223|\n",
      "|Hyderabad|                  1668|\n",
      "+---------+----------------------+\n",
      "\n"
     ]
    }
   ],
   "source": [
    "jobs.groupBy('Location').sum('Salaries Reported').show()"
   ]
  },
  {
   "cell_type": "code",
   "execution_count": 18,
   "id": "59da8e3a",
   "metadata": {},
   "outputs": [
    {
     "name": "stdout",
     "output_type": "stream",
     "text": [
      "+--------------------+--------------+-----------------+---------+-------------+\n",
      "|        Company Name|     Job Title|Salaries Reported| Location|       Salary|\n",
      "+--------------------+--------------+-----------------+---------+-------------+\n",
      "|            Mu Sigma|Data Scientist|              105|Bangalore| ₹6,48,573/yr|\n",
      "|                 IBM|Data Scientist|               95|Bangalore|₹11,91,950/yr|\n",
      "|Tata Consultancy ...|Data Scientist|               66|Bangalore| ₹8,36,874/yr|\n",
      "|    Impact Analytics|Data Scientist|               40|Bangalore| ₹6,69,578/yr|\n",
      "|           Accenture|Data Scientist|               32|Bangalore| ₹9,44,110/yr|\n",
      "|             Infosys|Data Scientist|               30|Bangalore| ₹9,08,764/yr|\n",
      "|           Capgemini|Data Scientist|               28|Bangalore| ₹9,26,124/yr|\n",
      "|Cognizant Technol...|Data Scientist|               26|Bangalore| ₹7,36,708/yr|\n",
      "|Anheuser-Busch InBev|Data Scientist|               25|Bangalore|₹16,46,721/yr|\n",
      "|             Fractal|Data Scientist|               22|Bangalore|₹13,92,960/yr|\n",
      "|              Embibe|Data Scientist|               20|Bangalore|₹14,04,773/yr|\n",
      "|              Amazon|Data Scientist|               19|Bangalore|₹15,07,343/yr|\n",
      "|              Google|Data Scientist|               19|Bangalore|₹15,58,095/yr|\n",
      "|            Flipkart|Data Scientist|               18|Bangalore|₹25,57,843/yr|\n",
      "|             HP Inc.|Data Scientist|               16|Bangalore|₹15,10,081/yr|\n",
      "|               Wipro|Data Scientist|               15|Bangalore| ₹7,32,821/yr|\n",
      "|  Ericsson-Worldwide|Data Scientist|               15|Bangalore|₹12,21,750/yr|\n",
      "|                 MiQ|Data Scientist|               15|Bangalore|₹17,39,484/yr|\n",
      "|            Deloitte|Data Scientist|               14|Bangalore|₹11,24,939/yr|\n",
      "|           Microsoft|Data Scientist|               14|Bangalore|₹16,30,396/yr|\n",
      "+--------------------+--------------+-----------------+---------+-------------+\n",
      "only showing top 20 rows\n",
      "\n"
     ]
    }
   ],
   "source": []
  },
  {
   "cell_type": "code",
   "execution_count": null,
   "id": "e0635679",
   "metadata": {},
   "outputs": [],
   "source": []
  }
 ],
 "metadata": {
  "kernelspec": {
   "display_name": "Python 3 (ipykernel)",
   "language": "python",
   "name": "python3"
  },
  "language_info": {
   "codemirror_mode": {
    "name": "ipython",
    "version": 3
   },
   "file_extension": ".py",
   "mimetype": "text/x-python",
   "name": "python",
   "nbconvert_exporter": "python",
   "pygments_lexer": "ipython3",
   "version": "3.9.5"
  }
 },
 "nbformat": 4,
 "nbformat_minor": 5
}
